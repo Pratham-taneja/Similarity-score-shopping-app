{
 "cells": [
  {
   "cell_type": "code",
   "execution_count": 1,
   "id": "6e3c4902-5953-4b14-917f-2b747c7f5f9d",
   "metadata": {},
   "outputs": [
    {
     "name": "stdout",
     "output_type": "stream",
     "text": [
      "        Score                                                url\n",
      "0  0.91234094  https://www.myntra.com/shirts/jack--jones/jack...\n",
      "1   0.8980786  https://www.myntra.com/shirts/jack--jones/jack...\n",
      "2   0.8767354  https://www.myntra.com/shirts/encore-by-invict...\n",
      "3   0.8713149  https://www.myntra.com/shirts/jack--jones/jack...\n",
      "4  0.86867756  https://www.myntra.com/shirts/invictus/invictu...\n",
      "5    0.866757  https://www.myntra.com/shirts/highlander/highl...\n",
      "6    0.861133  https://www.myntra.com/shirts/dennis-lingo/den...\n",
      "7   0.8587639  https://www.myntra.com/shirts/invictus/invictu...\n",
      "8   0.8587639  https://www.myntra.com/shirts/jack--jones/jack...\n",
      "9    0.857272  https://www.myntra.com/shirts/jack--jones/jack...\n"
     ]
    }
   ],
   "source": [
    "import requests\n",
    "import pandas as pd\n",
    "from selenium import webdriver\n",
    "\n",
    "'''\n",
    "    Sends the discription to Google Cloud.\n",
    "    Json of top 10 similar products is recived.\n",
    "'''\n",
    "\n",
    "# Url to server/GCP\n",
    "url = \"https://ronak-12-bhatia-tnwuto4yoq-uc.a.run.app\"\n",
    "\n",
    "# Example sentences\n",
    "sentence = [\"Olive green solid opaque shirt , spread collar, button placket, long roll-up sleeves, curved hem\",\n",
    "\t\t\t\"Black and Green, regular top, round neck, three-quarter sleeves, button closure\"]\n",
    "\n",
    "# Sending discription/data to the server/GCP \n",
    "resp = requests.post(url, json={'sentence':sentence[0]})\n",
    "\n",
    "# Converting result to dataframe for better visual\n",
    "result = pd.DataFrame(resp.json()['data'])\n",
    "\n",
    "print(result)"
   ]
  },
  {
   "cell_type": "code",
   "execution_count": 2,
   "id": "ec1736dc-696f-44b2-b66a-d18f25bec7e0",
   "metadata": {},
   "outputs": [
    {
     "name": "stderr",
     "output_type": "stream",
     "text": [
      "<ipython-input-2-20e8e576e7c0>:5: DeprecationWarning: executable_path has been deprecated, please pass in a Service object\n",
      "  driver = webdriver.Chrome(PATH)\n"
     ]
    }
   ],
   "source": [
    "'''\n",
    "    For opening all the result/url on browser\n",
    "'''\n",
    "PATH = \" https://chromedriver.chromium.org/security-considerations\"\n",
    "driver = webdriver.Chrome(PATH)\n",
    "\n",
    "for page in result['url'].values:\n",
    "\tdriver.execute_script(\"window.open('\"+page+\"');\")\n",
    "driver.switch_to.window(driver.window_handles[0])\n",
    "driver.close()"
   ]
  },
  {
   "cell_type": "code",
   "execution_count": null,
   "id": "c5bcc6d9-a764-4cc2-90ad-3b181c9f108b",
   "metadata": {},
   "outputs": [],
   "source": []
  }
 ],
 "metadata": {
  "kernelspec": {
   "display_name": "Python 3",
   "language": "python",
   "name": "python3"
  },
  "language_info": {
   "codemirror_mode": {
    "name": "ipython",
    "version": 3
   },
   "file_extension": ".py",
   "mimetype": "text/x-python",
   "name": "python",
   "nbconvert_exporter": "python",
   "pygments_lexer": "ipython3",
   "version": "3.8.5"
  }
 },
 "nbformat": 4,
 "nbformat_minor": 5
}
