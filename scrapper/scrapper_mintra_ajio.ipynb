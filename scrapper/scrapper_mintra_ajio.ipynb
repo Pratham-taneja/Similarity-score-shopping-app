{
 "cells": [
  {
   "cell_type": "code",
   "execution_count": 102,
   "metadata": {},
   "outputs": [],
   "source": [
    "from selenium import webdriver\n",
    "import pandas as pd\n",
    "import numpy as np"
   ]
  },
  {
   "cell_type": "code",
   "execution_count": 103,
   "metadata": {},
   "outputs": [],
   "source": [
    "from selenium.webdriver.common.by import By"
   ]
  },
  {
   "cell_type": "code",
   "execution_count": 104,
   "metadata": {},
   "outputs": [
    {
     "name": "stderr",
     "output_type": "stream",
     "text": [
      "<ipython-input-104-589aa01d3389>:2: DeprecationWarning: executable_path has been deprecated, please pass in a Service object\n",
      "  driver = webdriver.Chrome(PATH)\n"
     ]
    }
   ],
   "source": [
    "PATH = \" https://chromedriver.chromium.org/security-considerations\"\n",
    "driver = webdriver.Chrome(PATH)"
   ]
  },
  {
   "cell_type": "code",
   "execution_count": 105,
   "metadata": {},
   "outputs": [],
   "source": [
    "driver.get(\"https://www.myntra.com\")"
   ]
  },
  {
   "cell_type": "code",
   "execution_count": 106,
   "metadata": {},
   "outputs": [
    {
     "data": {
      "text/plain": [
       "'https://www.myntra.com/'"
      ]
     },
     "execution_count": 106,
     "metadata": {},
     "output_type": "execute_result"
    }
   ],
   "source": [
    "driver.current_url"
   ]
  },
  {
   "cell_type": "code",
   "execution_count": 108,
   "metadata": {},
   "outputs": [],
   "source": [
    "def get_desc(li):\n",
    "    for numb in range(10):\n",
    "        elements = (driver.find_element(By.CLASS_NAME , 'results-base')).find_elements(By.CLASS_NAME, 'product-base')\n",
    "        parent = driver.window_handles[1]\n",
    "        print('page : ',numb)\n",
    "        \n",
    "        for e in elements:\n",
    "            dict_disc={}\n",
    "            e.click()\n",
    "\n",
    "            # move to child page/tab\n",
    "            driver.switch_to.window(driver.window_handles[2])\n",
    "\n",
    "            dict_disc['disc'] = driver.find_element(By.CLASS_NAME , 'pdp-productDescriptorsContainer').find_element(By.CLASS_NAME , 'pdp-product-description-content').text\n",
    "            dict_disc['url'] = driver.current_url\n",
    "            \n",
    "            # if dict_disc['disc'] == '':\n",
    "            #     dict_disc['disc'] = driver.find_element(By.CLASS_NAME , 'pdp-product-description-content').text\n",
    "\n",
    "            li.append(dict_disc)\n",
    "\n",
    "            # print(\"Page title for browser tab:\")\n",
    "            # print(driver.title, dict_disc)\n",
    "            \n",
    "            driver.close()\n",
    "\n",
    "            #switch to parent window\n",
    "            driver.switch_to.window(parent)\n",
    "        \n",
    "        driver.find_element(By.CLASS_NAME , 'pagination-next').click()\n",
    "        df = pd.DataFrame(li)\n",
    "        df.to_csv(\"Clothes.csv\",index=False)\n",
    "\n",
    "    return li\n"
   ]
  },
  {
   "cell_type": "code",
   "execution_count": null,
   "metadata": {},
   "outputs": [],
   "source": [
    "li=[]\n",
    "# [4,6,8,10,12,13,14,15,16,17]\n",
    "for i in [10]:\n",
    "    \n",
    "    driver.switch_to.window(driver.window_handles[0])\n",
    "    home_page_elements = (driver.find_elements(By.CLASS_NAME , 'myx-indexContainer')[i]).find_elements(By.TAG_NAME,'a')\n",
    "    # len(home_page_elements)\n",
    "\n",
    "    for page in home_page_elements:\n",
    "\n",
    "        # print(page.get_attribute('href'))\n",
    "        driver.execute_script(\"window.open('\"+page.get_attribute('href')+\"');\")\n",
    "        parent = driver.window_handles[0]\n",
    "            \n",
    "        # move to child page/tab\n",
    "        driver.switch_to.window(driver.window_handles[1])\n",
    "        li=get_desc(li)\n",
    "\n",
    "        driver.close()\n",
    "        driver.switch_to.window(parent)\n"
   ]
  },
  {
   "cell_type": "code",
   "execution_count": 77,
   "metadata": {},
   "outputs": [],
   "source": [
    "driver.switch_to.window(driver.window_handles[0])\n",
    "driver.get(\"https://www.ajio.com/\")"
   ]
  },
  {
   "cell_type": "code",
   "execution_count": 94,
   "metadata": {},
   "outputs": [],
   "source": [
    "def get_desc_2(li):\n",
    "    elements = driver.find_elements(By.CLASS_NAME , 'rilrtl-products-list__link')\n",
    "    # print('page : ',numb)\n",
    "        \n",
    "    for e in elements:\n",
    "        dict_disc={}\n",
    "\n",
    "        dict_disc['disc'] = ' '.join(e.find_element(By.CLASS_NAME , 'contentHolder').text.split('\\n')[0:2])\n",
    "        dict_disc['url'] = e.get_attribute('href')\n",
    "\n",
    "        # if dict_disc['disc'] == '':\n",
    "        #     dict_disc['disc'] = driver.find_element(By.CLASS_NAME , 'pdp-product-description-content').text\n",
    "\n",
    "        li.append(dict_disc)\n",
    "\n",
    "        # print(\"Page title for browser tab:\")\n",
    "        # print(driver.title, dict_disc)\n",
    "\n",
    "    df = pd.DataFrame(li)\n",
    "    df.to_csv(\"Clothes_1.csv\",index=False)\n",
    "\n",
    "    return li"
   ]
  },
  {
   "cell_type": "code",
   "execution_count": 95,
   "metadata": {},
   "outputs": [],
   "source": [
    "for i in [23,25,31,33,35,37,41]:\n",
    "    \n",
    "    driver.switch_to.window(driver.window_handles[0])\n",
    "    home_page_elements = (driver.find_elements(By.CLASS_NAME , 'component-layout')[i]).find_elements(By.CLASS_NAME , 'slick-slide')\n",
    "\n",
    "    for page in home_page_elements:\n",
    "\n",
    "        # print(page.get_attribute('href'))\n",
    "        driver.execute_script(\"window.open('\"+page.find_elements(By.TAG_NAME,'a')[1].get_attribute('href')+\"');\")\n",
    "        \n",
    "        # move to child page/tab\n",
    "        driver.switch_to.window(driver.window_handles[1])\n",
    "        li=get_desc_2(li)\n",
    "\n",
    "        driver.close()\n",
    "        driver.switch_to.window(driver.window_handles[0])"
   ]
  },
  {
   "cell_type": "code",
   "execution_count": null,
   "metadata": {},
   "outputs": [],
   "source": []
  }
 ],
 "metadata": {
  "kernelspec": {
   "display_name": "Python 3",
   "language": "python",
   "name": "python3"
  },
  "language_info": {
   "codemirror_mode": {
    "name": "ipython",
    "version": 3
   },
   "file_extension": ".py",
   "mimetype": "text/x-python",
   "name": "python",
   "nbconvert_exporter": "python",
   "pygments_lexer": "ipython3",
   "version": "3.8.5"
  },
  "vscode": {
   "interpreter": {
    "hash": "11938c6bc6919ae2720b4d5011047913343b08a43b18698fd82dedb0d4417594"
   }
  }
 },
 "nbformat": 4,
 "nbformat_minor": 4
}
